{
 "cells": [
  {
   "cell_type": "markdown",
   "metadata": {},
   "source": [
    "# ECSE 415: Assignment 2\n",
    "## Imad Dodin | 260713381\n",
    "### Notes:\n",
    "\n",
    "* Only libraries installed in the tutorials were used in this assignment - for simplicity, I've frozen them into requirements.txt for the grader's reference.\n",
    "* Following instructions on the assignment, images and directories are expected to be placed on the same directory as this file and named identically to the starter directory provided. \n",
    "\n",
    "### Acknowledgements: \n",
    "I refer to code from the class tutorials to accomplish the required tasks. All comments are my own work."
   ]
  },
  {
   "cell_type": "markdown",
   "metadata": {},
   "source": [
    "## Question 2: Image Stitching\n",
    "### SIFT Keypoints (Pts. 1 and 2)\n"
   ]
  },
  {
   "cell_type": "code",
   "execution_count": null,
   "metadata": {},
   "outputs": [],
   "source": []
  }
 ],
 "metadata": {
  "kernelspec": {
   "display_name": "Python 3",
   "language": "python",
   "name": "python3"
  },
  "language_info": {
   "codemirror_mode": {
    "name": "ipython",
    "version": 3
   },
   "file_extension": ".py",
   "mimetype": "text/x-python",
   "name": "python",
   "nbconvert_exporter": "python",
   "pygments_lexer": "ipython3",
   "version": "3.7.4"
  }
 },
 "nbformat": 4,
 "nbformat_minor": 2
}
